{
 "cells": [
  {
   "cell_type": "markdown",
   "metadata": {},
   "source": [
    "# Exploratory Data Analysis (EDA) - Loan Prediction"
   ]
  },
  {
   "cell_type": "markdown",
   "metadata": {},
   "source": [
    "Predicting if loans will be approved or not.\n",
    "\n",
    "First we will do some data analysis (univariate and bivariate)"
   ]
  },
  {
   "cell_type": "markdown",
   "metadata": {},
   "source": [
    "### Libraries"
   ]
  },
  {
   "cell_type": "code",
   "execution_count": 1,
   "metadata": {},
   "outputs": [],
   "source": [
    "import pandas as pd\n",
    "import numpy as np\n",
    "import sweetviz as sv\n",
    "import seaborn as sns\n",
    "import matplotlib.pyplot as plt\n",
    "from plotly.subplots import make_subplots\n",
    "import plotly.graph_objects as go\n",
    "import plotly.express as px\n",
    "import plotly.io as pio\n",
    "pio.renderers.default = 'browser'\n",
    "\n",
    "\n",
    "import warnings\n",
    "warnings.filterwarnings('ignore')"
   ]
  },
  {
   "cell_type": "markdown",
   "metadata": {},
   "source": [
    "### Loading datasets"
   ]
  },
  {
   "cell_type": "code",
   "execution_count": 2,
   "metadata": {},
   "outputs": [],
   "source": [
    "train = pd.read_csv('train_dataset.csv')\n",
    "test = pd.read_csv('test_dataset.csv')\n",
    "\n",
    "train_original = train.copy()\n",
    "test_original = test.copy()"
   ]
  },
  {
   "cell_type": "code",
   "execution_count": 3,
   "metadata": {},
   "outputs": [
    {
     "data": {
      "text/plain": [
       "Index(['Loan_ID', 'Gender', 'Married', 'Dependents', 'Education',\n",
       "       'Self_Employed', 'ApplicantIncome', 'CoapplicantIncome', 'LoanAmount',\n",
       "       'Loan_Amount_Term', 'Credit_History', 'Property_Area', 'Loan_Status'],\n",
       "      dtype='object')"
      ]
     },
     "execution_count": 3,
     "metadata": {},
     "output_type": "execute_result"
    }
   ],
   "source": [
    "train.columns"
   ]
  },
  {
   "cell_type": "code",
   "execution_count": 4,
   "metadata": {},
   "outputs": [
    {
     "data": {
      "text/plain": [
       "Index(['Loan_ID', 'Gender', 'Married', 'Dependents', 'Education',\n",
       "       'Self_Employed', 'ApplicantIncome', 'CoapplicantIncome', 'LoanAmount',\n",
       "       'Loan_Amount_Term', 'Credit_History', 'Property_Area'],\n",
       "      dtype='object')"
      ]
     },
     "execution_count": 4,
     "metadata": {},
     "output_type": "execute_result"
    }
   ],
   "source": [
    "test.columns"
   ]
  },
  {
   "cell_type": "code",
   "execution_count": 5,
   "metadata": {},
   "outputs": [
    {
     "name": "stdout",
     "output_type": "stream",
     "text": [
      "<class 'pandas.core.frame.DataFrame'>\n",
      "RangeIndex: 614 entries, 0 to 613\n",
      "Data columns (total 13 columns):\n",
      " #   Column             Non-Null Count  Dtype  \n",
      "---  ------             --------------  -----  \n",
      " 0   Loan_ID            614 non-null    object \n",
      " 1   Gender             601 non-null    object \n",
      " 2   Married            611 non-null    object \n",
      " 3   Dependents         599 non-null    object \n",
      " 4   Education          614 non-null    object \n",
      " 5   Self_Employed      582 non-null    object \n",
      " 6   ApplicantIncome    614 non-null    int64  \n",
      " 7   CoapplicantIncome  614 non-null    float64\n",
      " 8   LoanAmount         592 non-null    float64\n",
      " 9   Loan_Amount_Term   600 non-null    float64\n",
      " 10  Credit_History     564 non-null    float64\n",
      " 11  Property_Area      614 non-null    object \n",
      " 12  Loan_Status        614 non-null    object \n",
      "dtypes: float64(4), int64(1), object(8)\n",
      "memory usage: 62.5+ KB\n"
     ]
    }
   ],
   "source": [
    "train.info()"
   ]
  },
  {
   "cell_type": "code",
   "execution_count": 6,
   "metadata": {},
   "outputs": [
    {
     "name": "stdout",
     "output_type": "stream",
     "text": [
      "<class 'pandas.core.frame.DataFrame'>\n",
      "RangeIndex: 367 entries, 0 to 366\n",
      "Data columns (total 12 columns):\n",
      " #   Column             Non-Null Count  Dtype  \n",
      "---  ------             --------------  -----  \n",
      " 0   Loan_ID            367 non-null    object \n",
      " 1   Gender             356 non-null    object \n",
      " 2   Married            367 non-null    object \n",
      " 3   Dependents         357 non-null    object \n",
      " 4   Education          367 non-null    object \n",
      " 5   Self_Employed      344 non-null    object \n",
      " 6   ApplicantIncome    367 non-null    int64  \n",
      " 7   CoapplicantIncome  367 non-null    int64  \n",
      " 8   LoanAmount         362 non-null    float64\n",
      " 9   Loan_Amount_Term   361 non-null    float64\n",
      " 10  Credit_History     338 non-null    float64\n",
      " 11  Property_Area      367 non-null    object \n",
      "dtypes: float64(3), int64(2), object(7)\n",
      "memory usage: 34.5+ KB\n"
     ]
    }
   ],
   "source": [
    "test.info()"
   ]
  },
  {
   "cell_type": "code",
   "execution_count": 7,
   "metadata": {},
   "outputs": [
    {
     "data": {
      "text/plain": [
       "((614, 13), (367, 12))"
      ]
     },
     "execution_count": 7,
     "metadata": {},
     "output_type": "execute_result"
    }
   ],
   "source": [
    "train.shape, test.shape"
   ]
  },
  {
   "cell_type": "markdown",
   "metadata": {},
   "source": [
    "# Exploratory Data Analysis (EDA)"
   ]
  },
  {
   "cell_type": "markdown",
   "metadata": {},
   "source": [
    "First, lets do some simplified analysis with library sweetviz. This is a nice library to do some fast data analysis. After that lets do some more complex analysis."
   ]
  },
  {
   "cell_type": "code",
   "execution_count": 8,
   "metadata": {},
   "outputs": [
    {
     "data": {
      "application/vnd.jupyter.widget-view+json": {
       "model_id": "3bac05954560498fbfbf61b9c3fea7e1",
       "version_major": 2,
       "version_minor": 0
      },
      "text/plain": [
       "HBox(children=(HTML(value=''), FloatProgress(value=0.0, layout=Layout(flex='2'), max=14.0), HTML(value='')), l…"
      ]
     },
     "metadata": {},
     "output_type": "display_data"
    },
    {
     "name": "stdout",
     "output_type": "stream",
     "text": [
      "\n",
      "Report SWEETVIZ_REPORT.html was generated! NOTEBOOK/COLAB USERS: the web browser MAY not pop up, regardless, the report IS saved in your notebook/colab files.\n"
     ]
    }
   ],
   "source": [
    "sv.analyze(train).show_html()"
   ]
  },
  {
   "cell_type": "code",
   "execution_count": 9,
   "metadata": {},
   "outputs": [
    {
     "data": {
      "application/vnd.jupyter.widget-view+json": {
       "model_id": "a7c51e6af44d4f988042fd766b97a5ad",
       "version_major": 2,
       "version_minor": 0
      },
      "text/plain": [
       "HBox(children=(HTML(value=''), FloatProgress(value=0.0, layout=Layout(flex='2'), max=14.0), HTML(value='')), l…"
      ]
     },
     "metadata": {},
     "output_type": "display_data"
    },
    {
     "name": "stdout",
     "output_type": "stream",
     "text": [
      "\n",
      "Report SWEETVIZ_REPORT.html was generated! NOTEBOOK/COLAB USERS: the web browser MAY not pop up, regardless, the report IS saved in your notebook/colab files.\n"
     ]
    }
   ],
   "source": [
    "sv.compare(train, test).show_html()"
   ]
  },
  {
   "cell_type": "markdown",
   "metadata": {},
   "source": [
    "### Univariate Analysis"
   ]
  },
  {
   "cell_type": "code",
   "execution_count": 10,
   "metadata": {},
   "outputs": [
    {
     "data": {
      "text/html": [
       "<div>\n",
       "<style scoped>\n",
       "    .dataframe tbody tr th:only-of-type {\n",
       "        vertical-align: middle;\n",
       "    }\n",
       "\n",
       "    .dataframe tbody tr th {\n",
       "        vertical-align: top;\n",
       "    }\n",
       "\n",
       "    .dataframe thead th {\n",
       "        text-align: right;\n",
       "    }\n",
       "</style>\n",
       "<table border=\"1\" class=\"dataframe\">\n",
       "  <thead>\n",
       "    <tr style=\"text-align: right;\">\n",
       "      <th></th>\n",
       "      <th>count</th>\n",
       "      <th>mean</th>\n",
       "      <th>std</th>\n",
       "      <th>min</th>\n",
       "      <th>25%</th>\n",
       "      <th>50%</th>\n",
       "      <th>75%</th>\n",
       "      <th>max</th>\n",
       "    </tr>\n",
       "  </thead>\n",
       "  <tbody>\n",
       "    <tr>\n",
       "      <th>ApplicantIncome</th>\n",
       "      <td>614.0</td>\n",
       "      <td>5403.459283</td>\n",
       "      <td>6109.041673</td>\n",
       "      <td>150.0</td>\n",
       "      <td>2877.5</td>\n",
       "      <td>3812.5</td>\n",
       "      <td>5795.00</td>\n",
       "      <td>81000.0</td>\n",
       "    </tr>\n",
       "    <tr>\n",
       "      <th>CoapplicantIncome</th>\n",
       "      <td>614.0</td>\n",
       "      <td>1621.245798</td>\n",
       "      <td>2926.248369</td>\n",
       "      <td>0.0</td>\n",
       "      <td>0.0</td>\n",
       "      <td>1188.5</td>\n",
       "      <td>2297.25</td>\n",
       "      <td>41667.0</td>\n",
       "    </tr>\n",
       "    <tr>\n",
       "      <th>LoanAmount</th>\n",
       "      <td>592.0</td>\n",
       "      <td>146.412162</td>\n",
       "      <td>85.587325</td>\n",
       "      <td>9.0</td>\n",
       "      <td>100.0</td>\n",
       "      <td>128.0</td>\n",
       "      <td>168.00</td>\n",
       "      <td>700.0</td>\n",
       "    </tr>\n",
       "    <tr>\n",
       "      <th>Loan_Amount_Term</th>\n",
       "      <td>600.0</td>\n",
       "      <td>342.000000</td>\n",
       "      <td>65.120410</td>\n",
       "      <td>12.0</td>\n",
       "      <td>360.0</td>\n",
       "      <td>360.0</td>\n",
       "      <td>360.00</td>\n",
       "      <td>480.0</td>\n",
       "    </tr>\n",
       "    <tr>\n",
       "      <th>Credit_History</th>\n",
       "      <td>564.0</td>\n",
       "      <td>0.842199</td>\n",
       "      <td>0.364878</td>\n",
       "      <td>0.0</td>\n",
       "      <td>1.0</td>\n",
       "      <td>1.0</td>\n",
       "      <td>1.00</td>\n",
       "      <td>1.0</td>\n",
       "    </tr>\n",
       "  </tbody>\n",
       "</table>\n",
       "</div>"
      ],
      "text/plain": [
       "                   count         mean          std    min     25%     50%  \\\n",
       "ApplicantIncome    614.0  5403.459283  6109.041673  150.0  2877.5  3812.5   \n",
       "CoapplicantIncome  614.0  1621.245798  2926.248369    0.0     0.0  1188.5   \n",
       "LoanAmount         592.0   146.412162    85.587325    9.0   100.0   128.0   \n",
       "Loan_Amount_Term   600.0   342.000000    65.120410   12.0   360.0   360.0   \n",
       "Credit_History     564.0     0.842199     0.364878    0.0     1.0     1.0   \n",
       "\n",
       "                       75%      max  \n",
       "ApplicantIncome    5795.00  81000.0  \n",
       "CoapplicantIncome  2297.25  41667.0  \n",
       "LoanAmount          168.00    700.0  \n",
       "Loan_Amount_Term    360.00    480.0  \n",
       "Credit_History        1.00      1.0  "
      ]
     },
     "execution_count": 10,
     "metadata": {},
     "output_type": "execute_result"
    }
   ],
   "source": [
    "train.describe().T"
   ]
  },
  {
   "cell_type": "code",
   "execution_count": 11,
   "metadata": {},
   "outputs": [
    {
     "data": {
      "text/html": [
       "<div>\n",
       "<style scoped>\n",
       "    .dataframe tbody tr th:only-of-type {\n",
       "        vertical-align: middle;\n",
       "    }\n",
       "\n",
       "    .dataframe tbody tr th {\n",
       "        vertical-align: top;\n",
       "    }\n",
       "\n",
       "    .dataframe thead th {\n",
       "        text-align: right;\n",
       "    }\n",
       "</style>\n",
       "<table border=\"1\" class=\"dataframe\">\n",
       "  <thead>\n",
       "    <tr style=\"text-align: right;\">\n",
       "      <th></th>\n",
       "      <th>count</th>\n",
       "      <th>mean</th>\n",
       "      <th>std</th>\n",
       "      <th>min</th>\n",
       "      <th>25%</th>\n",
       "      <th>50%</th>\n",
       "      <th>75%</th>\n",
       "      <th>max</th>\n",
       "    </tr>\n",
       "  </thead>\n",
       "  <tbody>\n",
       "    <tr>\n",
       "      <th>ApplicantIncome</th>\n",
       "      <td>367.0</td>\n",
       "      <td>4805.599455</td>\n",
       "      <td>4910.685399</td>\n",
       "      <td>0.0</td>\n",
       "      <td>2864.00</td>\n",
       "      <td>3786.0</td>\n",
       "      <td>5060.0</td>\n",
       "      <td>72529.0</td>\n",
       "    </tr>\n",
       "    <tr>\n",
       "      <th>CoapplicantIncome</th>\n",
       "      <td>367.0</td>\n",
       "      <td>1569.577657</td>\n",
       "      <td>2334.232099</td>\n",
       "      <td>0.0</td>\n",
       "      <td>0.00</td>\n",
       "      <td>1025.0</td>\n",
       "      <td>2430.5</td>\n",
       "      <td>24000.0</td>\n",
       "    </tr>\n",
       "    <tr>\n",
       "      <th>LoanAmount</th>\n",
       "      <td>362.0</td>\n",
       "      <td>136.132597</td>\n",
       "      <td>61.366652</td>\n",
       "      <td>28.0</td>\n",
       "      <td>100.25</td>\n",
       "      <td>125.0</td>\n",
       "      <td>158.0</td>\n",
       "      <td>550.0</td>\n",
       "    </tr>\n",
       "    <tr>\n",
       "      <th>Loan_Amount_Term</th>\n",
       "      <td>361.0</td>\n",
       "      <td>342.537396</td>\n",
       "      <td>65.156643</td>\n",
       "      <td>6.0</td>\n",
       "      <td>360.00</td>\n",
       "      <td>360.0</td>\n",
       "      <td>360.0</td>\n",
       "      <td>480.0</td>\n",
       "    </tr>\n",
       "    <tr>\n",
       "      <th>Credit_History</th>\n",
       "      <td>338.0</td>\n",
       "      <td>0.825444</td>\n",
       "      <td>0.380150</td>\n",
       "      <td>0.0</td>\n",
       "      <td>1.00</td>\n",
       "      <td>1.0</td>\n",
       "      <td>1.0</td>\n",
       "      <td>1.0</td>\n",
       "    </tr>\n",
       "  </tbody>\n",
       "</table>\n",
       "</div>"
      ],
      "text/plain": [
       "                   count         mean          std   min      25%     50%  \\\n",
       "ApplicantIncome    367.0  4805.599455  4910.685399   0.0  2864.00  3786.0   \n",
       "CoapplicantIncome  367.0  1569.577657  2334.232099   0.0     0.00  1025.0   \n",
       "LoanAmount         362.0   136.132597    61.366652  28.0   100.25   125.0   \n",
       "Loan_Amount_Term   361.0   342.537396    65.156643   6.0   360.00   360.0   \n",
       "Credit_History     338.0     0.825444     0.380150   0.0     1.00     1.0   \n",
       "\n",
       "                      75%      max  \n",
       "ApplicantIncome    5060.0  72529.0  \n",
       "CoapplicantIncome  2430.5  24000.0  \n",
       "LoanAmount          158.0    550.0  \n",
       "Loan_Amount_Term    360.0    480.0  \n",
       "Credit_History        1.0      1.0  "
      ]
     },
     "execution_count": 11,
     "metadata": {},
     "output_type": "execute_result"
    }
   ],
   "source": [
    "test.describe().T"
   ]
  },
  {
   "cell_type": "markdown",
   "metadata": {},
   "source": [
    "### Looking for Missing Values"
   ]
  },
  {
   "cell_type": "code",
   "execution_count": 12,
   "metadata": {},
   "outputs": [
    {
     "data": {
      "text/plain": [
       "Loan_ID               0\n",
       "Gender               13\n",
       "Married               3\n",
       "Dependents           15\n",
       "Education             0\n",
       "Self_Employed        32\n",
       "ApplicantIncome       0\n",
       "CoapplicantIncome     0\n",
       "LoanAmount           22\n",
       "Loan_Amount_Term     14\n",
       "Credit_History       50\n",
       "Property_Area         0\n",
       "Loan_Status           0\n",
       "dtype: int64"
      ]
     },
     "execution_count": 12,
     "metadata": {},
     "output_type": "execute_result"
    }
   ],
   "source": [
    "train.isnull().sum()"
   ]
  },
  {
   "cell_type": "code",
   "execution_count": 13,
   "metadata": {},
   "outputs": [
    {
     "data": {
      "text/plain": [
       "Loan_ID               0\n",
       "Gender               11\n",
       "Married               0\n",
       "Dependents           10\n",
       "Education             0\n",
       "Self_Employed        23\n",
       "ApplicantIncome       0\n",
       "CoapplicantIncome     0\n",
       "LoanAmount            5\n",
       "Loan_Amount_Term      6\n",
       "Credit_History       29\n",
       "Property_Area         0\n",
       "dtype: int64"
      ]
     },
     "execution_count": 13,
     "metadata": {},
     "output_type": "execute_result"
    }
   ],
   "source": [
    "test.isnull().sum()"
   ]
  },
  {
   "cell_type": "markdown",
   "metadata": {},
   "source": [
    "<font color='red'> For categorical features let's fill missing values by mode and numerical features let's fill by median when the pipeline will be created. </font>"
   ]
  },
  {
   "cell_type": "code",
   "execution_count": 14,
   "metadata": {},
   "outputs": [],
   "source": [
    "train['Gender'].fillna(train['Gender'].mode()[0], inplace = True)\n",
    "train['Married'].fillna(train['Married'].mode()[0], inplace = True)\n",
    "train['Dependents'].fillna(train['Dependents'].mode()[0], inplace = True)\n",
    "train['Self_Employed'].fillna(train['Self_Employed'].mode()[0], inplace = True)\n",
    "train['Credit_History'].fillna(train['Credit_History'].mode()[0], inplace = True)\n",
    "train['Loan_Amount_Term'].fillna(train['Loan_Amount_Term'].mode()[0], inplace = True)\n",
    "train['LoanAmount'].fillna(train['LoanAmount'].median(), inplace = True)"
   ]
  },
  {
   "cell_type": "code",
   "execution_count": 15,
   "metadata": {},
   "outputs": [],
   "source": [
    "test['Gender'].fillna(test['Gender'].mode()[0], inplace = True)\n",
    "test['Married'].fillna(test['Married'].mode()[0], inplace = True)\n",
    "test['Dependents'].fillna(test['Dependents'].mode()[0], inplace = True)\n",
    "test['Self_Employed'].fillna(test['Self_Employed'].mode()[0], inplace = True)\n",
    "test['Credit_History'].fillna(test['Credit_History'].mode()[0], inplace = True)\n",
    "test['Loan_Amount_Term'].fillna(test['Loan_Amount_Term'].mode()[0], inplace = True)\n",
    "test['LoanAmount'].fillna(test['LoanAmount'].median(), inplace = True)"
   ]
  },
  {
   "cell_type": "code",
   "execution_count": 16,
   "metadata": {},
   "outputs": [
    {
     "data": {
      "text/plain": [
       "Loan_ID              0\n",
       "Gender               0\n",
       "Married              0\n",
       "Dependents           0\n",
       "Education            0\n",
       "Self_Employed        0\n",
       "ApplicantIncome      0\n",
       "CoapplicantIncome    0\n",
       "LoanAmount           0\n",
       "Loan_Amount_Term     0\n",
       "Credit_History       0\n",
       "Property_Area        0\n",
       "Loan_Status          0\n",
       "dtype: int64"
      ]
     },
     "execution_count": 16,
     "metadata": {},
     "output_type": "execute_result"
    }
   ],
   "source": [
    "train.isnull().sum()"
   ]
  },
  {
   "cell_type": "code",
   "execution_count": 17,
   "metadata": {},
   "outputs": [
    {
     "data": {
      "text/plain": [
       "Loan_ID              0\n",
       "Gender               0\n",
       "Married              0\n",
       "Dependents           0\n",
       "Education            0\n",
       "Self_Employed        0\n",
       "ApplicantIncome      0\n",
       "CoapplicantIncome    0\n",
       "LoanAmount           0\n",
       "Loan_Amount_Term     0\n",
       "Credit_History       0\n",
       "Property_Area        0\n",
       "dtype: int64"
      ]
     },
     "execution_count": 17,
     "metadata": {},
     "output_type": "execute_result"
    }
   ],
   "source": [
    "test.isnull().sum()"
   ]
  },
  {
   "cell_type": "markdown",
   "metadata": {},
   "source": [
    "<font color='red'> Creating a new feature called Total_Income: </font>"
   ]
  },
  {
   "cell_type": "code",
   "execution_count": 18,
   "metadata": {},
   "outputs": [],
   "source": [
    "train['Total_Income'] = train['ApplicantIncome'] + train['CoapplicantIncome']\n",
    "test['Total_Income'] = test['ApplicantIncome'] + test['CoapplicantIncome']"
   ]
  },
  {
   "cell_type": "code",
   "execution_count": 19,
   "metadata": {},
   "outputs": [],
   "source": [
    "train_original['Total_Income'] = train_original['ApplicantIncome'] + train_original['CoapplicantIncome']\n",
    "test_original['Total_Income'] = test_original['ApplicantIncome'] + test_original['CoapplicantIncome']\n",
    "\n",
    "train_original['Bin_Loan_Status'] = pd.Series(np.where(train_original.Loan_Status.values == 'Y', 1, 0), train_original.index)\n",
    "test_original['Bin_Loan_Status'] = pd.Series(np.where(train.Loan_Status.values == 'yes', 1, 0), train.index)\n",
    "\n",
    "# Export data\n",
    "data_file_out1 = 'train_dataset_1.csv'\n",
    "data_file_out2 = 'test_dataset_1.csv'\n",
    "\n",
    "train_original.to_csv(data_file_out1, index=False)\n",
    "test_original.to_csv(data_file_out2, index=False)"
   ]
  },
  {
   "cell_type": "markdown",
   "metadata": {},
   "source": [
    "###### Target Variable"
   ]
  },
  {
   "cell_type": "code",
   "execution_count": 21,
   "metadata": {},
   "outputs": [],
   "source": [
    "# Creating series:\n",
    "tab = train['Loan_Status'].value_counts().to_frame()    \n",
    "\n",
    "tab_rel = train['Loan_Status'].value_counts(normalize = True).to_frame()\n",
    "tab_rel['Loan_Status'] = round(tab_rel['Loan_Status'], 2)\n",
    "\n",
    "\n",
    "# Creating charts:\n",
    "fig = make_subplots(rows=1, cols=2)\n",
    "\n",
    "fig.add_trace(go.Bar(x = tab.index,\n",
    "                     y = tab['Loan_Status'],\n",
    "                     name = 'Amount of Loans Approved (Y) or Not (N)',\n",
    "                     marker_color = '#EDC824',\n",
    "                     opacity = .7),\n",
    "              row = 1,\n",
    "              col = 1\n",
    "             )\n",
    "\n",
    "\n",
    "fig.add_trace(go.Bar(x = tab_rel.index,\n",
    "                     y = tab_rel['Loan_Status'],\n",
    "                     name = '% of Loans Approved (Y) or Not (N)',\n",
    "                     marker_color = '#08AA09',\n",
    "                     opacity = .5),\n",
    "              row = 1,\n",
    "              col = 2\n",
    "             )\n",
    "\n",
    "# Update Layout and axis:\n",
    "fig.update_yaxes(showgrid=False, title_text = \"Amount\", row = 1, col = 1)\n",
    "fig.update_yaxes(showgrid=False, title_text = \"Percentage (%)\", row = 1, col = 2)\n",
    "fig.update_xaxes(title_text = \"Approved (Y) or Not Approved (N)\", row = 1, col = 1)\n",
    "fig.update_xaxes(title_text = \"Approved (Y) or Not Approved (N)\", row = 1, col = 2)\n",
    "\n",
    "fig.update_layout(legend=dict(orientation=\"h\", \n",
    "                              yanchor=\"bottom\",\n",
    "                              y=1.05,\n",
    "                              xanchor=\"left\",\n",
    "                              x=0,\n",
    "                             ),\n",
    "                  height=600, \n",
    "                  width=1000\n",
    "                 )\n",
    "\n",
    "fig.show()"
   ]
  },
  {
   "cell_type": "markdown",
   "metadata": {},
   "source": [
    "<font color='red'> Both sweetviz and the previous chart show you that Loan_Status isn't balanced. Let´s consider it on model´s development with class_weight='balanced'. </font>"
   ]
  },
  {
   "cell_type": "markdown",
   "metadata": {},
   "source": [
    "###### Independent Variable (Categorical Features)"
   ]
  },
  {
   "cell_type": "code",
   "execution_count": null,
   "metadata": {},
   "outputs": [],
   "source": [
    "# Creating series:\n",
    "\n",
    "gender = train['Gender'].value_counts(normalize = True).to_frame().reset_index()\n",
    "gender = gender.rename(columns=({'index': 'Status', 'Gender': 'Total'}))\n",
    "gender['Total'] = round(gender['Total'], 2)\n",
    "\n",
    "married = train['Married'].value_counts(normalize = True).to_frame().reset_index()\n",
    "married = married.rename(columns=({'index': 'Status', 'Married': 'Total'}))\n",
    "married['Total'] = round(married['Total'], 2)\n",
    "\n",
    "self_employed = train['Self_Employed'].value_counts(normalize = True).to_frame().reset_index()\n",
    "self_employed = self_employed.rename(columns=({'index': 'Status', 'Self_Employed': 'Total'}))\n",
    "self_employed['Total'] = round(self_employed['Total'], 2)\n",
    "\n",
    "credit_history = train['Credit_History'].value_counts(normalize = True).to_frame().reset_index()\n",
    "credit_history = credit_history.rename(columns=({'index': 'Status', 'Credit_History': 'Total'}))\n",
    "credit_history['Total'] = round(credit_history['Total'], 2)\n",
    "\n",
    "\n",
    "# Creating charts:\n",
    "fig = make_subplots(rows=2, cols=2)\n",
    "\n",
    "# Gender series:\n",
    "fig.add_trace(go.Bar(x = gender['Status'],\n",
    "                     y = gender['Total'],\n",
    "                     name = '% of people by gender',\n",
    "                     marker_color = '#EDC824',\n",
    "                     opacity = .7),\n",
    "              row = 1,\n",
    "              col = 1\n",
    "             )\n",
    "\n",
    "# Married series:\n",
    "fig.add_trace(go.Bar(x = married['Status'],\n",
    "                     y = married['Total'],\n",
    "                     name = '% of people by marital status',\n",
    "                     marker_color = '#08AA09',\n",
    "                     opacity = .5),\n",
    "              row = 1,\n",
    "              col = 2\n",
    "             )\n",
    "\n",
    "# Self Employed series:\n",
    "fig.add_trace(go.Bar(x = self_employed['Status'],\n",
    "                     y = self_employed['Total'],\n",
    "                     name = '% of people self employed',\n",
    "                     marker_color = '#12B6A1',\n",
    "                     opacity = .7),\n",
    "              row = 2,\n",
    "              col = 1\n",
    "             )\n",
    "\n",
    "# Credit History series:\n",
    "fig.add_trace(go.Bar(x = credit_history['Status'],\n",
    "                     y = credit_history['Total'],\n",
    "                     name = '% of people with credit history',\n",
    "                     marker_color = '#141461',\n",
    "                     opacity = .5),\n",
    "              row = 2,\n",
    "              col = 2\n",
    "             )\n",
    "\n",
    "\n",
    "# Update layout and axis:\n",
    "fig.update_xaxes(title_text='Gender', row=1, col=1)\n",
    "fig.update_xaxes(title_text='Married', row=1, col=2)\n",
    "fig.update_xaxes(title_text='Self Employed', row=2, col=1)\n",
    "fig.update_xaxes(title_text='Credit History', row=2, col=2)\n",
    "\n",
    "fig.update_yaxes(showgrid=False)\n",
    "\n",
    "fig.update_layout(legend=dict(orientation=\"h\", \n",
    "                              yanchor=\"bottom\",\n",
    "                              y=1,\n",
    "                              xanchor=\"left\",\n",
    "                              x=0,\n",
    "                             ),\n",
    "                  height=600, \n",
    "                  width=1000\n",
    "                 )\n",
    "\n",
    "fig.show()"
   ]
  },
  {
   "cell_type": "markdown",
   "metadata": {},
   "source": [
    "###### Independent Variable (Ordinal Features)"
   ]
  },
  {
   "cell_type": "code",
   "execution_count": null,
   "metadata": {},
   "outputs": [],
   "source": [
    "# Creating series:\n",
    "\n",
    "dependents = train['Dependents'].value_counts(normalize = True).to_frame().reset_index()\n",
    "dependents = dependents.rename(columns=({'index': 'Status', 'Dependents': 'Total'}))\n",
    "dependents['Total'] = round(dependents['Total'], 2)\n",
    "dependents['Status'].replace('3+', 3, inplace = True)\n",
    "\n",
    "education = train['Education'].value_counts(normalize = True).to_frame().reset_index()\n",
    "education = education.rename(columns=({'index': 'Status', 'Education': 'Total'}))\n",
    "education['Total'] = round(education['Total'], 2)\n",
    "\n",
    "property_area = train['Property_Area'].value_counts(normalize = True).to_frame().reset_index()\n",
    "property_area = property_area.rename(columns=({'index': 'Status', 'Property_Area': 'Total'}))\n",
    "property_area['Total'] = round(property_area['Total'], 2)\n",
    "\n",
    "\n",
    "\n",
    "# Creating charts:\n",
    "fig = go.Figure()\n",
    "fig = make_subplots(rows=1, cols=3)\n",
    "\n",
    "# Dependents series:\n",
    "fig.add_trace(go.Bar(x = dependents['Status'],\n",
    "                     y = dependents['Total'],\n",
    "                     name = '% of people with dependents',\n",
    "                     marker_color = '#EDC824',\n",
    "                     opacity = .7),\n",
    "              row = 1,\n",
    "              col = 1\n",
    "             )\n",
    "\n",
    "# Education series:\n",
    "fig.add_trace(go.Bar(x = education['Status'],\n",
    "                     y = education['Total'],\n",
    "                     name = '% of people by education',\n",
    "                     marker_color = '#08AA09',\n",
    "                     opacity = .5),\n",
    "              row = 1,\n",
    "              col = 2\n",
    "             )\n",
    "\n",
    "# Property Area series:\n",
    "fig.add_trace(go.Bar(x = property_area['Status'],\n",
    "                     y = property_area['Total'],\n",
    "                     name = '% of people by property area',\n",
    "                     marker_color = '#12B6A1',\n",
    "                     opacity = .7),\n",
    "              row = 1,\n",
    "              col = 3\n",
    "             )\n",
    "\n",
    "# Update layout and axis:\n",
    "fig.update_xaxes(title_text='Number of dependents', row=1, col=1)\n",
    "fig.update_xaxes(title_text='Education', row=1, col=2)\n",
    "fig.update_xaxes(title_text='Area', row=1, col=3)\n",
    "\n",
    "fig.update_yaxes(showgrid=False)\n",
    "\n",
    "fig.update_layout(legend=dict(orientation=\"h\", \n",
    "                              yanchor=\"bottom\",\n",
    "                              y=1,\n",
    "                              xanchor=\"left\",\n",
    "                              x=0),\n",
    "                  height=400, \n",
    "                  width=1000\n",
    "                 )\n",
    "\n",
    "fig.show()"
   ]
  },
  {
   "cell_type": "markdown",
   "metadata": {},
   "source": [
    "###### Independent Variable (Numerical Features)"
   ]
  },
  {
   "cell_type": "code",
   "execution_count": null,
   "metadata": {},
   "outputs": [],
   "source": [
    "numerical_cols = train.select_dtypes(exclude=['object']).columns\n",
    "numerical_cols = list(numerical_cols)\n",
    "numerical_cols"
   ]
  },
  {
   "cell_type": "code",
   "execution_count": null,
   "metadata": {},
   "outputs": [],
   "source": [
    "del(numerical_cols[3:5])\n",
    "numerical_cols"
   ]
  },
  {
   "cell_type": "markdown",
   "metadata": {},
   "source": [
    "Create a function to plot histogram of the feature and the log of the feature. \n",
    "\n",
    "P.S.: xframe is the name of object (dataset)."
   ]
  },
  {
   "cell_type": "code",
   "execution_count": null,
   "metadata": {},
   "outputs": [],
   "source": [
    "def draw_charts(xframe, name_of_feature):\n",
    "\n",
    "    # Creating charts:\n",
    "    fig = go.Figure()\n",
    "    fig = make_subplots(rows=2, cols=2)\n",
    "    \n",
    "    \n",
    "    \n",
    "    # Histogram of the feature:\n",
    "    fig.add_trace(go.Histogram(x = xframe[name_of_feature], \n",
    "                               name = 'Frequency from ' + name_of_feature, \n",
    "                               marker_color = '#12B6A1',\n",
    "                               opacity = .7\n",
    "                              ),\n",
    "\n",
    "                  row = 1,\n",
    "                  col = 1\n",
    "                 )\n",
    "    \n",
    "    \n",
    "    # Boxplot of the feature:\n",
    "    fig.add_trace(go.Box(y = xframe[name_of_feature], \n",
    "                         name='Distribution from ' + name_of_feature, \n",
    "                         marker_color = '#12B6A1', \n",
    "                         line_color = '#12B6A1',\n",
    "                         opacity = .8\n",
    "                        ),\n",
    "                  row = 1,\n",
    "                  col = 2\n",
    "                 )\n",
    "    \n",
    "    \n",
    "    \n",
    "\n",
    "    # Histogram of natural logarithm from (1+p) from the feature:\n",
    "    fig.add_trace(go.Histogram(x = np.log1p(xframe[name_of_feature]), \n",
    "                               name = 'Frequency from natural logarithm of one plus ' + name_of_feature, \n",
    "                               marker_color = '#141461',\n",
    "                               opacity = .7\n",
    "                              ),\n",
    "\n",
    "                  row = 2,\n",
    "                  col = 1\n",
    "                 )\n",
    "\n",
    "    # Boxplot of natural logarithm from (1+p) from the feature:\n",
    "    fig.add_trace(go.Box(y = np.log1p(xframe[name_of_feature]), \n",
    "                         name='Distribution from natural logarithm of one plus ' + name_of_feature, \n",
    "                         marker_color = '#141461', \n",
    "                         line_color = '#141461',\n",
    "                         opacity = .8\n",
    "                        ),\n",
    "                  row = 2,\n",
    "                  col = 2\n",
    "                 )\n",
    "\n",
    "    # Update layout and axis:\n",
    "    fig.update_xaxes(title_text = name_of_feature, row=1, col=1)\n",
    "    fig.update_xaxes(title_text = 'ln one plus ' + name_of_feature, row=2, col=1)\n",
    "\n",
    "    fig.update_yaxes(showgrid=False, title_text = 'Frequency from ' + name_of_feature, row = 1, col = 1)\n",
    "    fig.update_yaxes(showgrid=False, title_text = 'Frequency from natural logarithm of one plus ' + name_of_feature, row = 2, col = 1)\n",
    "    \n",
    "    fig.update_yaxes(showgrid=False, title_text = name_of_feature, row = 1, col = 2)\n",
    "    fig.update_yaxes(showgrid=False, title_text = 'natural logarithm of one plus ' + name_of_feature, row = 2, col = 2)\n",
    "\n",
    "    fig.update_layout(legend=dict(orientation=\"h\", \n",
    "                                  yanchor=\"bottom\",\n",
    "                                  y=1,\n",
    "                                  xanchor=\"left\",\n",
    "                                  x=0\n",
    "                                 ),\n",
    "                      height=1000, \n",
    "                      width=1000\n",
    "                     )\n",
    "\n",
    "    return fig.show()"
   ]
  },
  {
   "cell_type": "markdown",
   "metadata": {},
   "source": [
    "##### <font color='blUE'> Training Set </font>"
   ]
  },
  {
   "cell_type": "code",
   "execution_count": null,
   "metadata": {},
   "outputs": [],
   "source": [
    "for i in numerical_cols:\n",
    "    draw_charts(train, i)"
   ]
  },
  {
   "cell_type": "markdown",
   "metadata": {},
   "source": [
    "As you can see on charts, all numerical features are right-skewed but after a log transformation all features bring better and them look like a normal distribution:"
   ]
  },
  {
   "cell_type": "markdown",
   "metadata": {},
   "source": [
    "### Bivariate Analysis"
   ]
  },
  {
   "cell_type": "markdown",
   "metadata": {},
   "source": [
    "###### Categorical Features vs Loan_Status"
   ]
  },
  {
   "cell_type": "markdown",
   "metadata": {},
   "source": [
    "Creating the function bivariate_bars to do Bar Charts and compare the feature versus Loan Status:"
   ]
  },
  {
   "cell_type": "code",
   "execution_count": null,
   "metadata": {},
   "outputs": [],
   "source": [
    "def bivariate_bars(name_of_dataframe, name_of_categorical_feature):\n",
    "\n",
    "    # Creating series:\n",
    "    xbivar = pd.crosstab(name_of_dataframe[name_of_categorical_feature], name_of_dataframe['Loan_Status']).reset_index()\n",
    "    #gender\n",
    "\n",
    "    # Creating bar charts:\n",
    "    fig = go.Figure()\n",
    "\n",
    "    # Approved:\n",
    "    fig.add_trace(go.Bar(name = 'Approved', \n",
    "                         x = xbivar[name_of_categorical_feature], \n",
    "                         y = xbivar['Y'], \n",
    "                         marker_color = '#08AA09', \n",
    "                         opacity = .8\n",
    "                        )\n",
    "                 )\n",
    "\n",
    "    # Not Approved:\n",
    "    fig.add_trace(go.Bar(name = 'Not Approved', \n",
    "                         x = xbivar[name_of_categorical_feature], \n",
    "                         y = xbivar['N'], \n",
    "                         marker_color = '#E11901', \n",
    "                         opacity = .8\n",
    "                        )\n",
    "                 )\n",
    "\n",
    "    # Update layout and Axis:\n",
    "    fig.update_layout(title = 'Distribution of Approved or Not Approved - ' + name_of_categorical_feature,\n",
    "                      barmode ='stack', \n",
    "                      barnorm = 'percent',\n",
    "                      height = 400, \n",
    "                      width = 900)\n",
    "\n",
    "    fig.update_xaxes(title_text = name_of_categorical_feature, type='category')\n",
    "    fig.update_yaxes(showgrid = False, title_text='Percent (%)')\n",
    "\n",
    "    return fig.show()"
   ]
  },
  {
   "cell_type": "code",
   "execution_count": null,
   "metadata": {},
   "outputs": [],
   "source": [
    "for i in ['Gender', 'Married', 'Dependents', 'Education', 'Self_Employed', 'Credit_History', 'Property_Area']:\n",
    "    \n",
    "    bivariate_bars(train, i)"
   ]
  },
  {
   "cell_type": "markdown",
   "metadata": {},
   "source": [
    "###### Numerical Features vs Loan_Status"
   ]
  },
  {
   "cell_type": "markdown",
   "metadata": {},
   "source": [
    "Creating some new features by bins:"
   ]
  },
  {
   "cell_type": "code",
   "execution_count": null,
   "metadata": {},
   "outputs": [],
   "source": [
    "# Creating a new column Income_Bin by range of Applicant Income:\n",
    "bins=[0, 2000, 6000, 10000, 100000]\n",
    "group = ['Low', 'Average', 'High', 'Very High']\n",
    "train['ApplicantIncome_Bin'] = pd.cut(train['ApplicantIncome'], bins, labels=group)\n",
    "\n",
    "# Creating a new column Total Income Bin:\n",
    "ranges = [0, 2000, 6000, 10000, 100000]\n",
    "groups = ['Low', 'Average', 'High', 'Very High']\n",
    "train['Total_Income_Bin'] = pd.cut(train['Total_Income'], ranges, labels = groups)\n",
    "\n",
    "# Creating a new column Loan Amount Bin:\n",
    "ranges = [0, 100, 200, 700]\n",
    "groups = ['Low', 'Average', 'High']\n",
    "train['Loan_Amount_Bin'] = pd.cut(train['LoanAmount'], ranges, labels = groups)\n",
    "\n",
    "# Creating a new column Coapplicant Income Bin by range of Coapplicant Income:\n",
    "bins=[0, 1000, 3000, 42000]\n",
    "group = ['Low', 'Average', 'High']\n",
    "train['Coapplicant_Income_Bin'] = pd.cut(train['CoapplicantIncome'], bins, labels=group)"
   ]
  },
  {
   "cell_type": "markdown",
   "metadata": {},
   "source": [
    "Creating the function bivar_hist to do histograms of the feature versus Loan Status:"
   ]
  },
  {
   "cell_type": "code",
   "execution_count": null,
   "metadata": {},
   "outputs": [],
   "source": [
    "import plotly.figure_factory as ff\n",
    "\n",
    "def bivar_hist(name_df, name_of_numerical_feature, binsize):\n",
    "    \n",
    "    #creating series of natuarl logarithm fro  (1+p):\n",
    "    x1 = np.log1p(name_df[name_df['Loan_Status'] == 'Y'][name_of_numerical_feature])\n",
    "    x2 = np.log1p(name_df[name_df['Loan_Status'] == 'N'][name_of_numerical_feature])\n",
    "\n",
    "    hist_data = [x1, x2]\n",
    "\n",
    "    group_labels = ['Approved', 'Not Approved']\n",
    "\n",
    "    colors = ['#08AA09', '#E11901']\n",
    "\n",
    "\n",
    "    # Create distplot with curve_type set to 'normal'\n",
    "    fig = ff.create_distplot(hist_data, \n",
    "                             group_labels, \n",
    "                             colors = colors,\n",
    "                             bin_size = binsize, \n",
    "                             show_rug = False)\n",
    "\n",
    "    # Add title\n",
    "    fig.update_layout(title_text='Histogram and Curve Plot from Ln(1 + ' + name_of_numerical_feature + ')')\n",
    "    fig.update_yaxes(showgrid=False)\n",
    "    return fig.show()"
   ]
  },
  {
   "cell_type": "markdown",
   "metadata": {},
   "source": [
    "Running the function bivar_hist to do histograms by Approved and Not Approved:"
   ]
  },
  {
   "cell_type": "code",
   "execution_count": null,
   "metadata": {},
   "outputs": [],
   "source": [
    "for i in ['ApplicantIncome', 'CoapplicantIncome', 'Total_Income', 'LoanAmount']:\n",
    "    bivar_hist(train, i, 0.07)"
   ]
  },
  {
   "cell_type": "markdown",
   "metadata": {},
   "source": [
    "Running the function bivariate_bars to do histograms by Approved and Not Approved:"
   ]
  },
  {
   "cell_type": "code",
   "execution_count": null,
   "metadata": {},
   "outputs": [],
   "source": [
    "for i in ['ApplicantIncome_Bin', 'Coapplicant_Income_Bin', 'Total_Income_Bin', 'Loan_Amount_Bin']:\n",
    "    bivariate_bars(train, i)"
   ]
  },
  {
   "cell_type": "markdown",
   "metadata": {},
   "source": [
    " <font color='red'> Transforming some features applying Natural Logarithm Function and doing some replacements: </font>"
   ]
  },
  {
   "cell_type": "code",
   "execution_count": null,
   "metadata": {},
   "outputs": [],
   "source": [
    "train['log_ApplicantIncome'] = np.log1p(train['ApplicantIncome'])\n",
    "train['log_CoapplicantIncome'] = np.log1p(train['CoapplicantIncome'])\n",
    "train['log_Total_Income'] = np.log1p(train['Total_Income'])\n",
    "train['log_LoanAmount'] = np.log1p(train['LoanAmount'])\n",
    "\n",
    "\n",
    "test['log_ApplicantIncome'] = np.log1p(test['ApplicantIncome'])\n",
    "test['log_CoapplicantIncome'] = np.log1p(test['CoapplicantIncome'])\n",
    "test['log_Total_Income'] = np.log1p(test['Total_Income'])\n",
    "test['log_LoanAmount'] = np.log1p(test['LoanAmount'])\n",
    "\n",
    "\n",
    "\n",
    "train['Dependents'].replace('3+', 3, inplace = True)\n",
    "test['Dependents'].replace('3+', 3, inplace = True)\n",
    "\n",
    "train['Loan_Status'].replace('N', 0, inplace = True)\n",
    "train['Loan_Status'].replace('Y', 1, inplace = True)\n",
    "\n",
    "train"
   ]
  },
  {
   "cell_type": "markdown",
   "metadata": {},
   "source": [
    "### Correlation Matrix"
   ]
  },
  {
   "cell_type": "code",
   "execution_count": null,
   "metadata": {},
   "outputs": [],
   "source": [
    "matrix = train.corr()\n",
    "\n",
    "plt.figure(figsize=(10, 8))\n",
    "\n",
    "sns.heatmap(matrix,\n",
    "            annot = True,\n",
    "            fmt = '.2f',\n",
    "            cmap='Oranges')\n",
    "\n",
    "plt.title('Correlation Matrix')\n",
    "\n",
    "plt.show()"
   ]
  },
  {
   "cell_type": "code",
   "execution_count": null,
   "metadata": {},
   "outputs": [],
   "source": [
    "# Creating a list with the names of numerical features:\n",
    "num_col = train.select_dtypes(exclude=['object']).columns\n",
    "\n",
    "# Creating a object with only numerical features:\n",
    "df_num = train[num_col]\n",
    "\n",
    "# Creating a Pair Plot using Seaborn:\n",
    "fig = sns.pairplot(df_num, \n",
    "                   hue = 'Loan_Status',\n",
    "                   diag_kws={'bw': 0.05}, \n",
    "                   corner=True, \n",
    "                   palette={0: '#E11901', 1: '#08AA09'}\n",
    "                  )"
   ]
  },
  {
   "cell_type": "markdown",
   "metadata": {},
   "source": [
    "##### Looking for Outliers:"
   ]
  },
  {
   "cell_type": "markdown",
   "metadata": {},
   "source": [
    "Creating the function look_for_outliers. This function will bring some informations like amount of outliers above from upper fence or under from lower fence. Besides that This function will create some boxplots:"
   ]
  },
  {
   "cell_type": "code",
   "execution_count": null,
   "metadata": {},
   "outputs": [],
   "source": [
    "def look_for_outliers(name_of_dataframe, filter_feature, name_of_feature):\n",
    "    \n",
    "    # IQR from feature ApplicantIncome:\n",
    "    Q1 = name_of_dataframe[name_of_feature].quantile(0.25)\n",
    "    Q3 = name_of_dataframe[name_of_feature].quantile(0.75)\n",
    "\n",
    "    upper_fence = Q3 + (1.5 * (Q3-Q1))\n",
    "\n",
    "    lower_fence = Q1 - (1.5 * (Q3-Q1))\n",
    "\n",
    "    if lower_fence < 0:\n",
    "        lower_fence = min(df_num[name_of_feature])\n",
    "\n",
    "    else:\n",
    "        lower_fence = Q1 - (1.5 * (Q3-Q1))\n",
    "\n",
    "\n",
    "    upf = name_of_dataframe[(name_of_dataframe[name_of_feature] > upper_fence)][name_of_feature].count()\n",
    "    lwf = name_of_dataframe[(name_of_dataframe[name_of_feature] < lower_fence)][name_of_feature].count()\n",
    "    tot = name_of_dataframe[name_of_feature].count()\n",
    "    \n",
    "    # print informations:\n",
    "    print(name_of_feature + ':', '\\n')\n",
    "    print(f'Upper Fence = {upper_fence}.')\n",
    "    print('There are', upf, 'outliers above of Upper Fence.', \n",
    "          \"It's about %.2f%%\" % (upf / tot * 100), 'of all dataset. \\n')\n",
    "\n",
    "    print(f'Lower Fence = {lower_fence}.')\n",
    "    print('There are', lwf, 'outliers under the Lower Fence or Minimum.', \n",
    "          \"It's about %.2f%%\" % (lwf / tot * 100), 'of all dataset. \\n\\n\\n')\n",
    "    \n",
    "    # creating boxplot:\n",
    "    fig = go.Figure()\n",
    "    \n",
    "    fig.add_trace(go.Box(y = name_of_dataframe[name_of_dataframe[filter_feature]==0][name_of_feature], x = name_of_dataframe[name_of_dataframe[filter_feature]==0][filter_feature], name='Not approved', marker_color = '#E11901', line_color = '#E11901'))\n",
    "    fig.add_trace(go.Box(y = name_of_dataframe[name_of_dataframe[filter_feature]==1][name_of_feature], x = name_of_dataframe[name_of_dataframe[filter_feature]==1][filter_feature], name='Approved', marker_color = '#08AA09', line_color = '#08AA09'))\n",
    "    \n",
    "    fig.update_layout(title_text = 'Boxplot of ' + name_of_feature,\n",
    "                      yaxis_title = name_of_feature, \n",
    "                      height=500, \n",
    "                      width=800\n",
    "                     )\n",
    "    fig.update_yaxes(showgrid=False)\n",
    "    \n",
    "    fig.show()"
   ]
  },
  {
   "cell_type": "markdown",
   "metadata": {},
   "source": [
    "Running the function look_for_outliers:"
   ]
  },
  {
   "cell_type": "code",
   "execution_count": null,
   "metadata": {},
   "outputs": [],
   "source": [
    "for i in list(['ApplicantIncome', 'log_ApplicantIncome', 'CoapplicantIncome', 'log_CoapplicantIncome', \n",
    "               'LoanAmount', 'log_LoanAmount', 'Total_Income', 'log_Total_Income']):\n",
    "    \n",
    "    look_for_outliers(df_num, 'Loan_Status', i)"
   ]
  },
  {
   "cell_type": "markdown",
   "metadata": {},
   "source": [
    "Although there are some outliers we won't drop them. Let's use Robust Scaler to reduce effects from those outliers."
   ]
  },
  {
   "cell_type": "code",
   "execution_count": null,
   "metadata": {},
   "outputs": [],
   "source": []
  }
 ],
 "metadata": {
  "kernelspec": {
   "display_name": "Python 3",
   "language": "python",
   "name": "python3"
  },
  "language_info": {
   "codemirror_mode": {
    "name": "ipython",
    "version": 3
   },
   "file_extension": ".py",
   "mimetype": "text/x-python",
   "name": "python",
   "nbconvert_exporter": "python",
   "pygments_lexer": "ipython3",
   "version": "3.7.6"
  }
 },
 "nbformat": 4,
 "nbformat_minor": 4
}
